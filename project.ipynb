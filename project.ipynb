{
 "cells": [
  {
   "attachments": {},
   "cell_type": "markdown",
   "metadata": {},
   "source": [
    "# Contact Feature"
   ]
  },
  {
   "attachments": {},
   "cell_type": "markdown",
   "metadata": {},
   "source": [
    "This project consists to create, update and delete contacts from a phone "
   ]
  },
  {
   "attachments": {},
   "cell_type": "markdown",
   "metadata": {},
   "source": [
    "Imported libraries"
   ]
  },
  {
   "cell_type": "code",
   "execution_count": 6,
   "metadata": {},
   "outputs": [],
   "source": [
    "import csv"
   ]
  },
  {
   "attachments": {},
   "cell_type": "markdown",
   "metadata": {},
   "source": [
    "CLASS"
   ]
  },
  {
   "cell_type": "code",
   "execution_count": 30,
   "metadata": {},
   "outputs": [],
   "source": [
    "import csv\n",
    "\n",
    "class Contact:\n",
    "    def __init__(self):\n",
    "        self.contacts = []\n",
    "    \n",
    "    def ajouter_contact(self, nom, numero):\n",
    "        self.contacts.append({\"nom\": nom, \"numero\": numero})\n",
    "    \n",
    "    def supprimer_contact(self, nom):\n",
    "        for i, contact in enumerate(self.contacts):\n",
    "            if contact[\"nom\"] == nom:\n",
    "                self.contacts.pop(i)\n",
    "                return\n",
    "        print(\"Le contact n'existe pas.\")\n",
    "    \n",
    "    def update_contact(self, nom, numero):\n",
    "        for contact in self.contacts:\n",
    "            if contact[\"nom\"] == nom:\n",
    "                contact[\"numero\"] = numero\n",
    "                return\n",
    "        print(\"Le contact n'existe pas.\")\n",
    "    \n",
    "    def afficher_contacts(self):\n",
    "        for contact in self.contacts:\n",
    "            print(\"Nom:\", contact[\"nom\"], \"Numero:\", contact[\"numero\"])\n",
    "            \n",
    "    def enregistrer_csv(self, nom_fichier):\n",
    "        with open(nom_fichier, 'w', newline='') as f:\n",
    "            fieldnames = ['nom', 'numero']\n",
    "            writer = csv.DictWriter(f, fieldnames=fieldnames)\n",
    "            writer.writeheader()\n",
    "            for contact in self.contacts:\n",
    "                writer.writerow(contact)\n",
    "               \n",
    "\n",
    "\n",
    "\n",
    "\n",
    "    "
   ]
  },
  {
   "attachments": {},
   "cell_type": "markdown",
   "metadata": {},
   "source": [
    "CREATE"
   ]
  },
  {
   "cell_type": "code",
   "execution_count": 64,
   "metadata": {},
   "outputs": [
    {
     "name": "stdout",
     "output_type": "stream",
     "text": [
      "Nom: konate Numero: 0769825646\n",
      "Nom: souleymane Numero: 5554455445\n",
      "Nom: Alice Numero: 555-555-5555\n"
     ]
    }
   ],
   "source": [
    "# Création d'un objet de la classe Contact\n",
    "mon_carnet= Contact()\n",
    "\n",
    "# Ajout de contacts\n",
    "mon_carnet.ajouter_contact(\"konate\", \"0769825646\")\n",
    "mon_carnet.ajouter_contact(\"souleymane\", \"5554455445\")\n",
    "mon_carnet.ajouter_contact(\"Alice\", \"555-555-5555\")\n",
    "\n",
    "mon_carnet.afficher_contacts()\n",
    "\n",
    "\n",
    "\n"
   ]
  },
  {
   "attachments": {},
   "cell_type": "markdown",
   "metadata": {},
   "source": [
    "UPDATE"
   ]
  },
  {
   "cell_type": "code",
   "execution_count": 66,
   "metadata": {},
   "outputs": [
    {
     "name": "stdout",
     "output_type": "stream",
     "text": [
      "Nom: konate Numero: 5548789885\n",
      "Nom: souleymane Numero: 5554455445\n",
      "Nom: Alice Numero: 555-555-5555\n"
     ]
    }
   ],
   "source": [
    "\n",
    "\n",
    "mon_carnet.update_contact(\"konate\",\"5548789885\")\n",
    "mon_carnet.afficher_contacts()\n"
   ]
  },
  {
   "attachments": {},
   "cell_type": "markdown",
   "metadata": {},
   "source": [
    "BONUS : DELETE"
   ]
  },
  {
   "cell_type": "code",
   "execution_count": 67,
   "metadata": {},
   "outputs": [
    {
     "name": "stdout",
     "output_type": "stream",
     "text": [
      "Nom: souleymane Numero: 5554455445\n",
      "Nom: Alice Numero: 555-555-5555\n"
     ]
    }
   ],
   "source": [
    "\n",
    "mon_carnet.supprimer_contact(\"konate\")\n",
    "mon_carnet.afficher_contacts()\n",
    "\n",
    "\n"
   ]
  }
 ],
 "metadata": {
  "kernelspec": {
   "display_name": "Python 3",
   "language": "python",
   "name": "python3"
  },
  "language_info": {
   "codemirror_mode": {
    "name": "ipython",
    "version": 3
   },
   "file_extension": ".py",
   "mimetype": "text/x-python",
   "name": "python",
   "nbconvert_exporter": "python",
   "pygments_lexer": "ipython3",
   "version": "3.11.0"
  },
  "orig_nbformat": 4,
  "vscode": {
   "interpreter": {
    "hash": "70427211c23ab5cdd24bfa03d0a6fd9c32e50c3fe4b2efd43b548ad3bd1397ba"
   }
  }
 },
 "nbformat": 4,
 "nbformat_minor": 2
}
